{
 "cells": [
  {
   "cell_type": "markdown",
   "id": "dd1befe1-379a-4c9a-bc47-1096072d2174",
   "metadata": {},
   "source": [
    "# Data Science Tools and Ecosystem"
   ]
  },
  {
   "cell_type": "markdown",
   "id": "7005ba4c-e531-4a5f-a683-238c47c15c00",
   "metadata": {},
   "source": [
    "I will summarize in this notebook Data Science Tools and Ecosystem"
   ]
  },
  {
   "cell_type": "markdown",
   "id": "a5712edf-9aa1-40c2-9543-ddff600d3322",
   "metadata": {},
   "source": [
    "**Objectives:**\n",
    "- List popular languages for Data Scientists\n",
    "- List popular libraries for Data Scientists\n",
    "- List open source Data Science tools\n",
    "- List examples of arithmetic expressions"
   ]
  },
  {
   "cell_type": "markdown",
   "id": "cba2c38f-921c-43d9-8634-41c58c54bc84",
   "metadata": {},
   "source": [
    "Some languages frequently used by Data Scientists are:\n",
    "1. Python\n",
    "2. R\n",
    "3. Julia\n",
    "4. SQL"
   ]
  },
  {
   "cell_type": "markdown",
   "id": "016e0b2a-171b-4a4e-965e-c1fb7fa29287",
   "metadata": {},
   "source": [
    "Some libraries frequently used by Data Scientists are:\n",
    "1. Matplotlib\n",
    "2. Pandas\n",
    "3. Numpy\n",
    "4. TensorFlow"
   ]
  },
  {
   "cell_type": "markdown",
   "id": "83552e73-d52e-4731-883b-4850fa1fbd49",
   "metadata": {},
   "source": [
    "| Data Science Tools |\n",
    "| ------------------ |\n",
    "| Jupyter |\n",
    "| Apache Zeppelin |\n",
    "| RStudio |"
   ]
  },
  {
   "cell_type": "markdown",
   "id": "88736772-d357-4e44-941e-ccf7892bdb5b",
   "metadata": {},
   "source": [
    "### Here are some examples of evaluating arithmetic expressions in Python"
   ]
  },
  {
   "cell_type": "code",
   "execution_count": 3,
   "id": "ea74779a-a5ef-442d-afdc-9fe2732660c5",
   "metadata": {},
   "outputs": [
    {
     "data": {
      "text/plain": [
       "17"
      ]
     },
     "execution_count": 3,
     "metadata": {},
     "output_type": "execute_result"
    }
   ],
   "source": [
    "## This an expression to mutiply and add integers\n",
    "(3*4)+5"
   ]
  },
  {
   "cell_type": "code",
   "execution_count": 7,
   "id": "b9297ca1-0aba-4e68-a9c5-335a4f156f25",
   "metadata": {},
   "outputs": [
    {
     "data": {
      "text/plain": [
       "3.3333333333333335"
      ]
     },
     "execution_count": 7,
     "metadata": {},
     "output_type": "execute_result"
    }
   ],
   "source": [
    "## You can convert 200 minutes to hours by diving by 60\n",
    "200/60"
   ]
  },
  {
   "cell_type": "markdown",
   "id": "51375ab9-81ff-4403-82fa-93fdd9d1fea7",
   "metadata": {},
   "source": [
    "## Author\n",
    "Ryan Lieman"
   ]
  }
 ],
 "metadata": {
  "kernelspec": {
   "display_name": "Python 3 (ipykernel)",
   "language": "python",
   "name": "python3"
  },
  "language_info": {
   "codemirror_mode": {
    "name": "ipython",
    "version": 3
   },
   "file_extension": ".py",
   "mimetype": "text/x-python",
   "name": "python",
   "nbconvert_exporter": "python",
   "pygments_lexer": "ipython3",
   "version": "3.11.7"
  }
 },
 "nbformat": 4,
 "nbformat_minor": 5
}
